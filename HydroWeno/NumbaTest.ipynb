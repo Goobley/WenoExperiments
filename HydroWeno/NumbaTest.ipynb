{
 "cells": [
  {
   "cell_type": "code",
   "execution_count": 1,
   "metadata": {},
   "outputs": [],
   "source": [
    "%matplotlib notebook\n",
    "import matplotlib.pyplot as plt"
   ]
  },
  {
   "cell_type": "code",
   "execution_count": 2,
   "metadata": {},
   "outputs": [],
   "source": [
    "import numpy as np\n",
    "import numba\n",
    "from numba import jit, njit, prange, int64, cuda\n",
    "from tqdm import tqdm_notebook as tqdm"
   ]
  },
  {
   "cell_type": "code",
   "execution_count": 3,
   "metadata": {
    "scrolled": false
   },
   "outputs": [
    {
     "name": "stderr",
     "output_type": "stream",
     "text": [
      "/Users/goobley/NewImex/NumbaTime/Weno.py:42: NumbaPerformanceWarning: np.dot() is faster on contiguous arrays, called on (array(float64, 1d, A), array(float64, 1d, C))\n",
      "  enoIntpL[s] = np.dot(q[row, gridIdx:gridIdx+3], EnoCoeffL[2-s])\n",
      "/Users/goobley/NewImex/NumbaTime/Weno.py:43: NumbaPerformanceWarning: np.dot() is faster on contiguous arrays, called on (array(float64, 1d, A), array(float64, 1d, C))\n",
      "  enoIntpR[s] = np.dot(q[row, gridIdx:gridIdx+3], EnoCoeffR[s])\n"
     ]
    }
   ],
   "source": [
    "from TimeIntegrate import tvd_rk3\n",
    "from SimSettings import Prim, Gas, Sim, Cons\n",
    "from BCs import apply_bcs\n",
    "from PrimCons import prim2cons, prim2flux, cons2prim\n",
    "from Weno import reconstruct_weno"
   ]
  },
  {
   "cell_type": "code",
   "execution_count": 4,
   "metadata": {},
   "outputs": [],
   "source": [
    "def cfl(V):\n",
    "    cs = np.sqrt(Gas.Gamma * V[Prim.Pres] / V[Prim.Dens])\n",
    "    vel = cs + np.abs(V[Prim.Velo])\n",
    "    dt = 0.9 * Sim.GrDx / np.max(vel)\n",
    "    return dt"
   ]
  },
  {
   "cell_type": "code",
   "execution_count": 5,
   "metadata": {},
   "outputs": [],
   "source": [
    "def driver(V, U, tMax=None):\n",
    "    dt = cfl(V)\n",
    "    if tMax is not None:\n",
    "        dt = min(dt, tMax)\n",
    "    V[:], U[:] = tvd_rk3(dt, V, U)\n",
    "    apply_bcs(V)\n",
    "    return dt\n",
    "    "
   ]
  },
  {
   "cell_type": "code",
   "execution_count": 6,
   "metadata": {},
   "outputs": [],
   "source": [
    "def setup():\n",
    "    mid = (Sim.GriBeg + Sim.GriEnd) // 2\n",
    "    V = np.zeros((Prim.NumVars, Sim.GriMax))\n",
    "    \n",
    "    V[Prim.Dens, :mid] = 1.0\n",
    "    V[Prim.Pres, :mid] = 1.0\n",
    "    V[Prim.Velo] = 0.0\n",
    "    V[Prim.Dens, mid:] = 0.125\n",
    "    V[Prim.Pres, mid:] = 0.1\n",
    "    V[Prim.Eint] = V[Prim.Pres] / ((Gas.Gamma-1.0) * V[Prim.Dens])\n",
    "    \n",
    "#     mid = int((griBeg + griEnd) * 2/ 5)\n",
    "#     gr_V[DENS, :mid] = 10.0\n",
    "#     gr_V[PRES, :mid] = 100.0\n",
    "#     gr_V[VEL] = 0.0\n",
    "#     gr_V[DENS, mid:] = 1.0\n",
    "#     gr_V[PRES, mid:] = 1.0\n",
    "#     gr_V[EINT] = gr_V[PRES] / ((Gamma-1.0) * gr_V[DENS])\n",
    "#     gr_V[GAMC] = Gamma\n",
    "#     gr_V[GAME] = Gamma\n",
    "\n",
    "#     mid = int((griBeg + griEnd) * 0.1)\n",
    "#     gr_V[DENS, :mid] = 3.857143\n",
    "#     gr_V[VEL, :mid] = 2.629369\n",
    "#     gr_V[PRES, :mid] = 10.3333333\n",
    "#     gr_V[DENS, mid:] = 1 + 0.2 * np.sin(5 * gridPos[mid:])\n",
    "#     gr_V[VEL, mid:] = 0.0\n",
    "#     gr_V[PRES, mid:] = 1.0\n",
    "#     gr_V[EINT] = gr_V[PRES] / ((Gamma-1.0) * gr_V[DENS])\n",
    "#     gr_V[GAMC] = Gamma\n",
    "#     gr_V[GAME] = Gamma\n",
    "\n",
    "#     gr_V[DENS, :] = 1.0\n",
    "#     gr_V[VEL, :mid] = -2.0\n",
    "#     gr_V[VEL, mid:] = 2.0\n",
    "#     gr_V[EINT, :] = 3.0\n",
    "#     gr_V[PRES, :] = gr_V[EINT] * (Gamma-1.0) * gr_V[DENS]\n",
    "#     gr_V[GAMC] = Gamma\n",
    "#     gr_V[GAME] = Gamma\n",
    "\n",
    "#     H = 0.5*xEnd # = cs2/|g|\n",
    "#     cs2 = H * np.abs(Grav)\n",
    "#     gr_V[PRES, :] = 1e7 * np.exp(-gridPos / H)\n",
    "#     gr_V[DENS, :] = 1.0 / cs2 * gr_V[PRES, :] \n",
    "#     gr_V[VEL, :] = 0.0\n",
    "#     gr_V[EINT, :] = gr_V[PRES] / ((Gamma-1.0) * gr_V[DENS])\n",
    "#     gr_V[GAMC] = Gamma\n",
    "#     gr_V[GAME] = Gamma\n",
    "    \n",
    "    apply_bcs(V)\n",
    "    U = prim2cons(V)\n",
    "    \n",
    "    return V, U"
   ]
  },
  {
   "cell_type": "code",
   "execution_count": 10,
   "metadata": {},
   "outputs": [
    {
     "data": {
      "application/vnd.jupyter.widget-view+json": {
       "model_id": "316f381bd59c43a9b31ee565f186c0ed",
       "version_major": 2,
       "version_minor": 0
      },
      "text/plain": [
       "HBox(children=(IntProgress(value=0, max=100000), HTML(value='')))"
      ]
     },
     "metadata": {},
     "output_type": "display_data"
    },
    {
     "name": "stdout",
     "output_type": "stream",
     "text": [
      "0.2\n"
     ]
    }
   ],
   "source": [
    "# def foo():\n",
    "V, U = setup()\n",
    "Vinit = np.copy(V)\n",
    "t=0\n",
    "tEnd = 0.2\n",
    "vs = [Vinit]\n",
    "tq = tqdm(range(100000))\n",
    "for i in tq:\n",
    "    tq.set_description('%f s' % t)\n",
    "    tMax = tEnd - t\n",
    "    t += driver(V, U, tMax)\n",
    "    vs.append(np.copy(V))\n",
    "    if t >= tEnd:\n",
    "        break\n",
    "print(t)"
   ]
  },
  {
   "cell_type": "code",
   "execution_count": 8,
   "metadata": {},
   "outputs": [
    {
     "name": "stdout",
     "output_type": "stream",
     "text": [
      "0.2\n"
     ]
    }
   ],
   "source": [
    "foo()"
   ]
  },
  {
   "cell_type": "code",
   "execution_count": 9,
   "metadata": {},
   "outputs": [
    {
     "name": "stdout",
     "output_type": "stream",
     "text": [
      "0.2\n",
      "0.2\n",
      "0.2\n",
      "0.2\n",
      "0.2\n",
      "0.2\n",
      "0.2\n",
      "0.2\n",
      "30.2 s ± 408 ms per loop (mean ± std. dev. of 7 runs, 1 loop each)\n"
     ]
    }
   ],
   "source": [
    "%timeit foo()"
   ]
  },
  {
   "cell_type": "code",
   "execution_count": null,
   "metadata": {},
   "outputs": [],
   "source": [
    "plt.figure()\n",
    "plt.plot(Sim.XPos, vs[-1][Prim.Dens])\n",
    "# plt.plot(vs[-1][Prim.Pres])\n",
    "# plt.plot(vs[-1][Prim.Eint])"
   ]
  },
  {
   "cell_type": "code",
   "execution_count": null,
   "metadata": {},
   "outputs": [],
   "source": [
    "V, U = setup()"
   ]
  },
  {
   "cell_type": "code",
   "execution_count": null,
   "metadata": {},
   "outputs": [],
   "source": [
    "reconstruct_weno(V)"
   ]
  },
  {
   "cell_type": "code",
   "execution_count": null,
   "metadata": {},
   "outputs": [],
   "source": [
    "np.seterr(all='raise')\n",
    "def lax_friedrichs_flux(primRecon):\n",
    "    consRecon = np.zeros((Cons.NumVars, primRecon.shape[1], primRecon.shape[2]))\n",
    "    fluxLR = np.zeros_like(consRecon)\n",
    "    fluxLR[:, 0, :] = prim2flux(primRecon[:, 0, :])\n",
    "    fluxLR[:, 1, :] = prim2flux(primRecon[:, 1, :])\n",
    "    consRecon[:, 0, :] = prim2cons(primRecon[:, 0, :])\n",
    "    consRecon[:, 1, :] = prim2cons(primRecon[:, 1, :])\n",
    "\n",
    "    csL = np.sqrt(Gas.Gamma * primRecon[Prim.Pres, 0] / primRecon[Prim.Dens, 0])\n",
    "    csR = np.sqrt(Gas.Gamma * primRecon[Prim.Pres, 1] / primRecon[Prim.Dens, 1])\n",
    "    maxC = np.zeros_like(csL)\n",
    "    # The left hand sound speed is the right hand extrapolation of the cell below,\n",
    "    # and the left hand one is the right hand extrapolation of the value in the\n",
    "    # next cell\n",
    "    maxC[1:] = 0.5 * (csL[:-1] + np.abs(primRecon[Prim.Velo, 1, :-1]) + csR[1:] + np.abs(primRecon[Prim.Velo, 0, 1:]))\n",
    "    # maxC[1:] = 0.5 * (csL[1:] + np.abs(primRecon[Prim.Velo, 0, 1:]) + csL[:-1] + np.abs(primRecon[Prim.Velo, 0, :-1]))\n",
    "\n",
    "    flux = np.zeros((Cons.NumVars, primRecon.shape[2]))\n",
    "    flux[:, 1:] = 0.5 * (fluxLR[:, 1, :-1] + fluxLR[:, 0, 1:] - maxC[1:] * (consRecon[:, 1, 1:] - consRecon[:, 0, :-1]))\n",
    "    return flux"
   ]
  },
  {
   "cell_type": "code",
   "execution_count": null,
   "metadata": {
    "scrolled": false
   },
   "outputs": [],
   "source": [
    "plt.figure()\n",
    "plt.plot(Sim.XPos, V[Cons.Dens])\n",
    "plt.plot(Sim.XPos - Sim.GrDx/2, reconstruct_weno(V)[Cons.Dens, 0], '+')\n",
    "plt.plot(Sim.XPos + Sim.GrDx/2, reconstruct_weno(V)[Cons.Dens, 1], '+')"
   ]
  },
  {
   "cell_type": "code",
   "execution_count": null,
   "metadata": {},
   "outputs": [],
   "source": [
    "from Flux import lax_friedrichs_flux"
   ]
  },
  {
   "cell_type": "code",
   "execution_count": null,
   "metadata": {},
   "outputs": [],
   "source": []
  }
 ],
 "metadata": {
  "kernelspec": {
   "display_name": "Python 3",
   "language": "python",
   "name": "python3"
  },
  "language_info": {
   "codemirror_mode": {
    "name": "ipython",
    "version": 3
   },
   "file_extension": ".py",
   "mimetype": "text/x-python",
   "name": "python",
   "nbconvert_exporter": "python",
   "pygments_lexer": "ipython3",
   "version": "3.7.4"
  }
 },
 "nbformat": 4,
 "nbformat_minor": 2
}
